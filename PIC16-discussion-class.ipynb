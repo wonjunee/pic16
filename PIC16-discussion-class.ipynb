{
 "cells": [
  {
   "cell_type": "markdown",
   "metadata": {},
   "source": [
    "# PIC 16 - Discussion\n",
    "# Class"
   ]
  },
  {
   "cell_type": "markdown",
   "metadata": {},
   "source": [
    "---"
   ]
  },
  {
   "cell_type": "code",
   "execution_count": null,
   "metadata": {},
   "outputs": [],
   "source": [
    "class coordinate:\n",
    "    def __init__(self, *args):\n",
    "        assert len(args) == 2, \"exactly 2 numbers needed\"\n",
    "        self.x = args[0]\n",
    "        self.y = args[1]\n",
    "    \n",
    "    def __repr__(self):\n",
    "        return repr((self.x, self.y))\n",
    "    \n",
    "    def __str__(self):\n",
    "        return str((self.x, self.y))    \n",
    "    \n",
    "    def plus(self, a):\n",
    "        new_x = self.x + a.x\n",
    "        new_y = self.y + a.y\n",
    "        return coordinate(new_x, new_y)"
   ]
  },
  {
   "cell_type": "code",
   "execution_count": null,
   "metadata": {},
   "outputs": [],
   "source": [
    "a = coordinate(1,2)\n",
    "b = coordinate(3,4)\n",
    "\n",
    "# c = a.plus(b)\n",
    "c = a + b\n",
    "\n",
    "\n",
    "print a\n",
    "print b\n",
    "print c"
   ]
  },
  {
   "cell_type": "code",
   "execution_count": null,
   "metadata": {},
   "outputs": [],
   "source": [
    "a = [1,2,4,6]\n",
    "b = [5,2,1,10]\n",
    "\n",
    "print [x+y for x,y in zip(a,b)]"
   ]
  },
  {
   "cell_type": "markdown",
   "metadata": {},
   "source": [
    "# Problem\n",
    "\n",
    "c = a + b\n",
    "\n",
    "print c\n",
    "\n",
    "    (4, 5)"
   ]
  },
  {
   "cell_type": "code",
   "execution_count": null,
   "metadata": {},
   "outputs": [],
   "source": []
  }
 ],
 "metadata": {
  "anaconda-cloud": {},
  "kernelspec": {
   "display_name": "Python 2",
   "language": "python",
   "name": "python2"
  },
  "language_info": {
   "codemirror_mode": {
    "name": "ipython",
    "version": 2
   },
   "file_extension": ".py",
   "mimetype": "text/x-python",
   "name": "python",
   "nbconvert_exporter": "python",
   "pygments_lexer": "ipython2",
   "version": "2.7.16"
  }
 },
 "nbformat": 4,
 "nbformat_minor": 1
}
