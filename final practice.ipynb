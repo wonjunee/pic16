{
 "cells": [
  {
   "cell_type": "markdown",
   "metadata": {},
   "source": [
    "# Problem 1\n",
    "\n",
    "Given an integer n, count the total number of digit 1 appearing in all non- negative integers less than or equal to n.\n",
    "\n",
    "For example, given n = 13, return 6, because digit 1 occurred in the following numbers: 1, 10, 11, 12, 13."
   ]
  },
  {
   "cell_type": "code",
   "execution_count": null,
   "metadata": {},
   "outputs": [],
   "source": [
    "def count(n):\n",
    "    count = 0\n",
    "    for i in range(n+1):\n",
    "        s = str(i)\n",
    "        for j in s:\n",
    "            if j == '1':\n",
    "                count += 1\n",
    "    return count\n",
    "\n",
    "print count(1000)"
   ]
  },
  {
   "cell_type": "markdown",
   "metadata": {},
   "source": [
    "# Problem 2\n",
    "\n",
    "Write a function that takes a directed network in the form of an adjacency matrix as input (numpy array) and outputs the same network in the form of a dictionary with entries x:y for each edge xy."
   ]
  },
  {
   "cell_type": "code",
   "execution_count": null,
   "metadata": {},
   "outputs": [],
   "source": [
    "import numpy as np\n",
    "\n",
    "mat = np.random.randint(0,8,(5,5))\n",
    "mat[mat>1] = 0\n",
    "\n",
    "def func(mat):\n",
    "    d = []\n",
    "    for i in range(mat.shape[0]):\n",
    "        for j in range(mat.shape[1]):\n",
    "            if mat[i,j] == 1:\n",
    "                d.append((i,j))\n",
    "    return d\n",
    "\n",
    "print mat\n",
    "print func(mat)\n",
    "     \n"
   ]
  },
  {
   "cell_type": "markdown",
   "metadata": {},
   "source": [
    "# Problem 3 \n",
    "\n",
    "Use Tkinter to write a function that shows a filled square that changes color each time the user clicks inside it."
   ]
  },
  {
   "cell_type": "code",
   "execution_count": null,
   "metadata": {},
   "outputs": [],
   "source": [
    "# Look at Tkinter_ex.py file"
   ]
  },
  {
   "cell_type": "markdown",
   "metadata": {},
   "source": [
    "# Problem 4 \n",
    "\n",
    "Write a function that uses a regular expression to find all IP addresses in a piece of text (input as a single string). The function will return a list of all IP addresses. If the same IP address appears multiple times, only one should be reported."
   ]
  },
  {
   "cell_type": "code",
   "execution_count": null,
   "metadata": {},
   "outputs": [],
   "source": []
  },
  {
   "cell_type": "markdown",
   "metadata": {},
   "source": [
    "# Problem 5\n",
    "\n",
    "Write a sorting algorithm that sorts a list as follows: it goes through the list until it finds the first element less than its predecessor. It then takes this element out, and goes through the list from the beginning again, and drops the element in the right place. It repeats until there are no more such elements. So, one step would turn the list [1,3,5,4,2] into [1,3,4,5,2]."
   ]
  },
  {
   "cell_type": "code",
   "execution_count": null,
   "metadata": {},
   "outputs": [],
   "source": [
    "def sort(arr):\n",
    "    ind = 0\n",
    "    for i in range(1,len(arr)):\n",
    "        if arr[i] < arr[i-1]:\n",
    "            num = arr[i]\n",
    "            arr.remove(num)\n",
    "            for j in range(i):\n",
    "                if arr[j] > num:\n",
    "                    arr.insert(j,num)\n",
    "                    break\n",
    "    print(arr)\n",
    "            \n",
    "sort([1,6,5,4,2])"
   ]
  },
  {
   "cell_type": "code",
   "execution_count": null,
   "metadata": {},
   "outputs": [],
   "source": []
  }
 ],
 "metadata": {
  "kernelspec": {
   "display_name": "Python 3",
   "language": "python",
   "name": "python3"
  },
  "language_info": {
   "codemirror_mode": {
    "name": "ipython",
    "version": 3
   },
   "file_extension": ".py",
   "mimetype": "text/x-python",
   "name": "python",
   "nbconvert_exporter": "python",
   "pygments_lexer": "ipython3",
   "version": "3.6.5"
  }
 },
 "nbformat": 4,
 "nbformat_minor": 2
}
