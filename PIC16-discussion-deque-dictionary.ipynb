{
 "cells": [
  {
   "cell_type": "markdown",
   "metadata": {},
   "source": [
    "# PIC 16 - Discussion\n",
    "# About Deque and Dictionary"
   ]
  },
  {
   "cell_type": "code",
   "execution_count": null,
   "metadata": {},
   "outputs": [],
   "source": [
    "from collections import deque"
   ]
  },
  {
   "cell_type": "markdown",
   "metadata": {},
   "source": [
    "- Python List: LIFO (Last In First Out), append and pop are **O(n)** time complexity\n",
    "- deque: FIFO (First In First Out), append and pop are **O(1)** time complexity"
   ]
  },
  {
   "cell_type": "code",
   "execution_count": null,
   "metadata": {},
   "outputs": [],
   "source": [
    "stack = [\"Blue\", \"Red\", \"Green\"]\n",
    "stack.append(\"Orange\")\n",
    "stack.pop()\n",
    "stack.pop()\n",
    "print stack"
   ]
  },
  {
   "cell_type": "code",
   "execution_count": null,
   "metadata": {},
   "outputs": [],
   "source": [
    "queue = deque([\"Blue\", \"Red\", \"Green\"])\n",
    "queue.append(\"Orange\")\n",
    "queue.pop()\n",
    "queue.pop()\n",
    "print queue"
   ]
  },
  {
   "cell_type": "markdown",
   "metadata": {},
   "source": [
    "You can delete the left end of the deque using **popleft** function."
   ]
  },
  {
   "cell_type": "code",
   "execution_count": null,
   "metadata": {},
   "outputs": [],
   "source": [
    "queue = deque([\"Blue\", \"Red\", \"Green\"])\n",
    "queue.append(\"Orange\")\n",
    "queue.popleft()\n",
    "queue.popleft()\n",
    "print queue"
   ]
  },
  {
   "cell_type": "markdown",
   "metadata": {},
   "source": [
    "# Dictionary"
   ]
  },
  {
   "cell_type": "code",
   "execution_count": null,
   "metadata": {},
   "outputs": [],
   "source": [
    "print {\"bacon\": 3.99, \"eggs\": 1.99, \"juice\": 2.99}\n",
    "print dict([(\"bacon\", 3.99), (\"eggs\", 1.99), (\"juice\", 2.99)])\n",
    "grocery = dict(bacon=3.99, eggs=1.99, juice=2.99)\n",
    "print grocery\n",
    "print \"bacon\" in grocery"
   ]
  },
  {
   "cell_type": "code",
   "execution_count": null,
   "metadata": {},
   "outputs": [],
   "source": [
    "print {x: x**2 for x in (2, 4, 6)}"
   ]
  },
  {
   "cell_type": "code",
   "execution_count": null,
   "metadata": {},
   "outputs": [],
   "source": [
    "dic = {\"PIC 16\": 1, \"Hello\": 2, \"MATH 1\": 3, \"PIC 10A\": 4, \"STAT 1\": 5}\n",
    "\n",
    "print dic[\"PIC 16\"]"
   ]
  },
  {
   "cell_type": "code",
   "execution_count": null,
   "metadata": {},
   "outputs": [],
   "source": [
    "for i in dic:\n",
    "    print \"key: {}, value: {}\".format(i, dic[i])"
   ]
  },
  {
   "cell_type": "markdown",
   "metadata": {},
   "source": [
    "# Problem\n",
    "Write down a **for loop** that prints out the following\n",
    "\n",
    "```\n",
    "title: Rubber Soul, year: 1965\n",
    "title: Magical Mystery Tour, year: 1967\n",
    "title: Sgt. Pepper's Lonely Hearts Club Band, year: 1967\n",
    "title: Revolver, year: 1966\n",
    "title: The Beatles, year: 1968\n",
    "title: With the Beatles, year: 1963\n",
    "title: Beatles for Sale, year: 1964\n",
    "title: Yellow Submarine, year: 1969\n",
    "title: A Hard Day's Night, year: 1964\n",
    "title: Help, year: 1965\n",
    "title: Let It Be, year: 1970\n",
    "title: Abbey Road, year: 1969\n",
    "title: Twist and Shout, year: 1964\n",
    "title: Please Please Me, year: 1963\n",
    "```"
   ]
  },
  {
   "cell_type": "code",
   "execution_count": null,
   "metadata": {},
   "outputs": [],
   "source": [
    "# TODO"
   ]
  },
  {
   "cell_type": "code",
   "execution_count": null,
   "metadata": {},
   "outputs": [],
   "source": []
  }
 ],
 "metadata": {
  "kernelspec": {
   "display_name": "Python 2",
   "language": "python",
   "name": "python2"
  },
  "language_info": {
   "codemirror_mode": {
    "name": "ipython",
    "version": 2
   },
   "file_extension": ".py",
   "mimetype": "text/x-python",
   "name": "python",
   "nbconvert_exporter": "python",
   "pygments_lexer": "ipython2",
   "version": "2.7.16"
  }
 },
 "nbformat": 4,
 "nbformat_minor": 2
}
