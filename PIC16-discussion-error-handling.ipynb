{
 "cells": [
  {
   "cell_type": "markdown",
   "metadata": {},
   "source": [
    "# PIC 16 - Discussion \n",
    "# Error Handling and more built-in functions"
   ]
  },
  {
   "cell_type": "markdown",
   "metadata": {},
   "source": [
    "---\n",
    "## Error Handling"
   ]
  },
  {
   "cell_type": "code",
   "execution_count": null,
   "metadata": {},
   "outputs": [],
   "source": [
    "print 1/0"
   ]
  },
  {
   "cell_type": "code",
   "execution_count": null,
   "metadata": {},
   "outputs": [],
   "source": [
    "try:\n",
    "    print 1/0\n",
    "except ZeroDivisionError:\n",
    "    print \"zero division error\""
   ]
  },
  {
   "cell_type": "code",
   "execution_count": null,
   "metadata": {},
   "outputs": [],
   "source": [
    "a = 0\n",
    "\n",
    "if a==0:\n",
    "    raise ZeroDivisionError(\"Divided by zero\")"
   ]
  },
  {
   "cell_type": "code",
   "execution_count": null,
   "metadata": {},
   "outputs": [],
   "source": [
    "a = int('string')"
   ]
  },
  {
   "cell_type": "code",
   "execution_count": null,
   "metadata": {},
   "outputs": [],
   "source": [
    "try:\n",
    "    a = int('string')\n",
    "except ValueError:\n",
    "    print \"Not integer\""
   ]
  },
  {
   "cell_type": "code",
   "execution_count": null,
   "metadata": {},
   "outputs": [],
   "source": [
    "def plus_3(a):\n",
    "    assert isinstance(a,int) == True, \"The input is not an integer\"\n",
    "    \n",
    "    return a + 3\n",
    "\n",
    "plus_3('e')"
   ]
  },
  {
   "cell_type": "code",
   "execution_count": null,
   "metadata": {},
   "outputs": [],
   "source": [
    "def check_str(s):\n",
    "    assert isinstance(s,str) == True, \"The input is not a string\"\n",
    "    \n",
    "    return s + \"!!!!\"\n",
    "\n",
    "check_str(3)"
   ]
  },
  {
   "cell_type": "code",
   "execution_count": null,
   "metadata": {},
   "outputs": [],
   "source": [
    "intresult = None\n",
    "while intresult is None:\n",
    "    input = raw_input()\n",
    "    try: \n",
    "        intresult = int(input)\n",
    "        print \"Your number is\", intresult\n",
    "    except ValueError:\n",
    "        print \"not an integer\""
   ]
  },
  {
   "cell_type": "code",
   "execution_count": null,
   "metadata": {},
   "outputs": [],
   "source": [
    "def inverse(arr):\n",
    "    newarr = []\n",
    "    for num in arr:\n",
    "        newnum = 1.0/num\n",
    "        newarr.append(newnum)\n",
    "    return newarr"
   ]
  },
  {
   "cell_type": "code",
   "execution_count": null,
   "metadata": {},
   "outputs": [],
   "source": [
    "arr = [1,2,3,4,5,6]\n",
    "\n",
    "print inverse(arr)"
   ]
  },
  {
   "cell_type": "code",
   "execution_count": null,
   "metadata": {},
   "outputs": [],
   "source": [
    "arr = [1,'a',2,3,4,5]\n",
    "\n",
    "print inverse(arr)"
   ]
  },
  {
   "cell_type": "code",
   "execution_count": null,
   "metadata": {},
   "outputs": [],
   "source": [
    "arr = [1,0,2,3,4,5]\n",
    "\n",
    "print inverse(arr)"
   ]
  },
  {
   "cell_type": "markdown",
   "metadata": {},
   "source": [
    "### Problem\n",
    "\n",
    "Use error handling to avoid the error\n",
    "\n",
    "Input:    \n",
    "```\n",
    "[1, 2, 'a', 0, 4]\n",
    "``` \n",
    "Output: \n",
    "```\n",
    "[1.0, 0.5, 'not a digit', 'division by zero', 0.25]\n",
    "```"
   ]
  },
  {
   "cell_type": "code",
   "execution_count": null,
   "metadata": {},
   "outputs": [],
   "source": [
    "def inverse(arr):\n",
    "    # WRITE YOUR CODE HERE\n",
    "        \n",
    "    return newarr\n",
    "\n",
    "arr = [1,2,'a',0,4]\n",
    "print inverse(arr)"
   ]
  },
  {
   "cell_type": "markdown",
   "metadata": {
    "collapsed": true
   },
   "source": [
    "# Built-in functions"
   ]
  },
  {
   "cell_type": "code",
   "execution_count": null,
   "metadata": {},
   "outputs": [],
   "source": [
    "# Enumerate\n",
    "champions = [\"Rammus\", \"Nautilus\", \"Veigar\", \"Vladimir\"]\n",
    "print enumerate(champions)\n",
    "print list(enumerate(champions))\n",
    "for i, v in enumerate(champions):\n",
    "     print i, v"
   ]
  },
  {
   "cell_type": "code",
   "execution_count": null,
   "metadata": {},
   "outputs": [],
   "source": [
    "# Zip\n",
    "nouns = [\"palms\", \"knees\", \"arms\"]\n",
    "adjectives = [\"sweaty\", \"weak\", \"heavy\"]\n",
    "print zip(nouns,adjectives)\n",
    "for n, a in zip(nouns, adjectives):\n",
    "    print \"His {0} are {1}\".format(n, a)"
   ]
  },
  {
   "cell_type": "code",
   "execution_count": null,
   "metadata": {},
   "outputs": [],
   "source": [
    "# Iteritems\n",
    "prices = {\"Bitcoin\": 6946.99, \"Ethereum\": 427.96, \"Litecoin\": 115.99}\n",
    "for c, p in prices.iteritems():\n",
    "    print c, '$' + str(p)\n",
    "    # Optional exercise: Use format function to print out"
   ]
  },
  {
   "cell_type": "markdown",
   "metadata": {},
   "source": [
    "### Problem\n",
    "Write a function that finds the quotient and remainder of a division operation without using the / operator.\n",
    "\n",
    "Return the result as [quotient, remainder]."
   ]
  },
  {
   "cell_type": "code",
   "execution_count": null,
   "metadata": {},
   "outputs": [],
   "source": [
    "def divide(a, b):\n",
    "    # Compute the quotient and remainder of a/b"
   ]
  },
  {
   "cell_type": "code",
   "execution_count": null,
   "metadata": {},
   "outputs": [],
   "source": []
  }
 ],
 "metadata": {
  "anaconda-cloud": {},
  "kernelspec": {
   "display_name": "Python 2",
   "language": "python",
   "name": "python2"
  },
  "language_info": {
   "codemirror_mode": {
    "name": "ipython",
    "version": 2
   },
   "file_extension": ".py",
   "mimetype": "text/x-python",
   "name": "python",
   "nbconvert_exporter": "python",
   "pygments_lexer": "ipython2",
   "version": "2.7.16"
  }
 },
 "nbformat": 4,
 "nbformat_minor": 1
}
